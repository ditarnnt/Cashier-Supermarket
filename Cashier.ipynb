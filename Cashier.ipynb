{
 "cells": [
  {
   "cell_type": "code",
   "execution_count": 8,
   "metadata": {},
   "outputs": [],
   "source": [
    "import pandas as pd\n",
    "import tabulate"
   ]
  },
  {
   "cell_type": "code",
   "execution_count": 9,
   "metadata": {},
   "outputs": [
    {
     "name": "stdout",
     "output_type": "stream",
     "text": [
      "Requirement already satisfied: pandas in c:\\users\\asus\\appdata\\local\\packages\\pythonsoftwarefoundation.python.3.10_qbz5n2kfra8p0\\localcache\\local-packages\\python310\\site-packages (1.5.3)\n",
      "Requirement already satisfied: pytz>=2020.1 in c:\\users\\asus\\appdata\\local\\packages\\pythonsoftwarefoundation.python.3.10_qbz5n2kfra8p0\\localcache\\local-packages\\python310\\site-packages (from pandas) (2022.7.1)\n",
      "Requirement already satisfied: python-dateutil>=2.8.1 in c:\\users\\asus\\appdata\\local\\packages\\pythonsoftwarefoundation.python.3.10_qbz5n2kfra8p0\\localcache\\local-packages\\python310\\site-packages (from pandas) (2.8.2)\n",
      "Requirement already satisfied: numpy>=1.21.0 in c:\\users\\asus\\appdata\\local\\packages\\pythonsoftwarefoundation.python.3.10_qbz5n2kfra8p0\\localcache\\local-packages\\python310\\site-packages (from pandas) (1.23.4)\n",
      "Requirement already satisfied: six>=1.5 in c:\\users\\asus\\appdata\\local\\packages\\pythonsoftwarefoundation.python.3.10_qbz5n2kfra8p0\\localcache\\local-packages\\python310\\site-packages (from python-dateutil>=2.8.1->pandas) (1.16.0)\n",
      "Note: you may need to restart the kernel to use updated packages.\n"
     ]
    }
   ],
   "source": [
    "%pip install pandas"
   ]
  },
  {
   "cell_type": "code",
   "execution_count": 20,
   "metadata": {},
   "outputs": [
    {
     "name": "stdout",
     "output_type": "stream",
     "text": [
      "Collecting tabulate\n",
      "  Using cached tabulate-0.9.0-py3-none-any.whl (35 kB)\n",
      "Installing collected packages: tabulate\n",
      "Successfully installed tabulate-0.9.0\n",
      "Note: you may need to restart the kernel to use updated packages.\n"
     ]
    },
    {
     "name": "stderr",
     "output_type": "stream",
     "text": [
      "  WARNING: The script tabulate.exe is installed in 'C:\\Users\\ASUS\\AppData\\Local\\Packages\\PythonSoftwareFoundation.Python.3.10_qbz5n2kfra8p0\\LocalCache\\local-packages\\Python310\\Scripts' which is not on PATH.\n",
      "  Consider adding this directory to PATH or, if you prefer to suppress this warning, use --no-warn-script-location.\n"
     ]
    }
   ],
   "source": [
    "%pip install tabulate"
   ]
  },
  {
   "cell_type": "code",
   "execution_count": 9,
   "metadata": {},
   "outputs": [],
   "source": [
    "class Transaction():\n",
    "    def __init__(self):\n",
    "        self.keranjang = dict ()\n",
    "    \n",
    "    def add_item (self, item_name, item_count, item_price):\n",
    "        item_total = item_count*item_price\n",
    "        self.keranjang.update({item_name:[item_count,item_price,item_total]})\n",
    "    \n",
    "    def update_item_name (self, item_name, item_name_new):\n",
    "        temp = self.keranjang[item_name]\n",
    "        self.keranjang.pop[item_name]\n",
    "        self.keranjang.update({item_name_new: temp})\n",
    "\n",
    "    def update_item_qty (self,item_name,item_count_new):\n",
    "        self.keranjang[item_name][0] == item_count_new\n",
    "\n",
    "    def delete_item (self):\n",
    "        self.keranjang.clear ()\n",
    "    \n",
    "    def check_order (self):\n",
    "        data = pd.DataFrame(self.keranjang).T\n",
    "        data.columns = ['item_count', 'item/price', 'Total Price']\n",
    "        print(data.to_markdown())\n",
    "    \n",
    "    def reset_data (self):\n",
    "        self.keranjang.clear()\n",
    "    \n",
    "    def order (self, item_total, item_name):\n",
    "        print (\"-------- Thank you --------\") \n",
    "        data = pd.DataFrame(self.keranjang).T\n",
    "        data.columns = ['item_count', 'item/price', 'Total Price']\n",
    "        print(data.to_markdown())\n",
    "        item_total = sum(self.keranjang[item_name][2])"
   ]
  },
  {
   "cell_type": "code",
   "execution_count": 10,
   "metadata": {},
   "outputs": [],
   "source": [
    "Transaction123 = Transaction()\n",
    "Transaction123.add_item(\"tempe\", 1, 3000)\n",
    "Transaction123.add_item(\"udang\", 2, 5000)\n"
   ]
  },
  {
   "cell_type": "code",
   "execution_count": 11,
   "metadata": {},
   "outputs": [
    {
     "name": "stdout",
     "output_type": "stream",
     "text": [
      "|       |   item_count |   item/price |   Total Price |\n",
      "|:------|-------------:|-------------:|--------------:|\n",
      "| tempe |            1 |         3000 |          3000 |\n",
      "| udang |            2 |         5000 |         10000 |\n"
     ]
    }
   ],
   "source": [
    "Transaction123.check_order()"
   ]
  },
  {
   "cell_type": "code",
   "execution_count": 12,
   "metadata": {},
   "outputs": [
    {
     "ename": "TypeError",
     "evalue": "Transaction.order() missing 2 required positional arguments: 'item_total' and 'item_name'",
     "output_type": "error",
     "traceback": [
      "\u001b[1;31m---------------------------------------------------------------------------\u001b[0m",
      "\u001b[1;31mTypeError\u001b[0m                                 Traceback (most recent call last)",
      "Cell \u001b[1;32mIn[12], line 1\u001b[0m\n\u001b[1;32m----> 1\u001b[0m Transaction123\u001b[39m.\u001b[39;49morder()\n",
      "\u001b[1;31mTypeError\u001b[0m: Transaction.order() missing 2 required positional arguments: 'item_total' and 'item_name'"
     ]
    }
   ],
   "source": [
    "Transaction123.order()"
   ]
  }
 ],
 "metadata": {
  "kernelspec": {
   "display_name": "Python 3",
   "language": "python",
   "name": "python3"
  },
  "language_info": {
   "codemirror_mode": {
    "name": "ipython",
    "version": 3
   },
   "file_extension": ".py",
   "mimetype": "text/x-python",
   "name": "python",
   "nbconvert_exporter": "python",
   "pygments_lexer": "ipython3",
   "version": "3.10.9"
  },
  "orig_nbformat": 4,
  "vscode": {
   "interpreter": {
    "hash": "65a440aeac0c89e2af7569e0aa53b64434c4b69eb6285e2b0d174d9bca190d54"
   }
  }
 },
 "nbformat": 4,
 "nbformat_minor": 2
}
