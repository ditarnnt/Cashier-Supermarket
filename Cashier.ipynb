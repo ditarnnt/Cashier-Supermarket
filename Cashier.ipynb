{
 "cells": [
  {
   "cell_type": "code",
   "execution_count": 56,
   "metadata": {},
   "outputs": [],
   "source": [
    "import pandas as pd\n",
    "import tabulate"
   ]
  },
  {
   "cell_type": "code",
   "execution_count": 9,
   "metadata": {},
   "outputs": [
    {
     "name": "stdout",
     "output_type": "stream",
     "text": [
      "Requirement already satisfied: pandas in c:\\users\\asus\\appdata\\local\\packages\\pythonsoftwarefoundation.python.3.10_qbz5n2kfra8p0\\localcache\\local-packages\\python310\\site-packages (1.5.3)\n",
      "Requirement already satisfied: pytz>=2020.1 in c:\\users\\asus\\appdata\\local\\packages\\pythonsoftwarefoundation.python.3.10_qbz5n2kfra8p0\\localcache\\local-packages\\python310\\site-packages (from pandas) (2022.7.1)\n",
      "Requirement already satisfied: python-dateutil>=2.8.1 in c:\\users\\asus\\appdata\\local\\packages\\pythonsoftwarefoundation.python.3.10_qbz5n2kfra8p0\\localcache\\local-packages\\python310\\site-packages (from pandas) (2.8.2)\n",
      "Requirement already satisfied: numpy>=1.21.0 in c:\\users\\asus\\appdata\\local\\packages\\pythonsoftwarefoundation.python.3.10_qbz5n2kfra8p0\\localcache\\local-packages\\python310\\site-packages (from pandas) (1.23.4)\n",
      "Requirement already satisfied: six>=1.5 in c:\\users\\asus\\appdata\\local\\packages\\pythonsoftwarefoundation.python.3.10_qbz5n2kfra8p0\\localcache\\local-packages\\python310\\site-packages (from python-dateutil>=2.8.1->pandas) (1.16.0)\n",
      "Note: you may need to restart the kernel to use updated packages.\n"
     ]
    }
   ],
   "source": [
    "%pip install pandas"
   ]
  },
  {
   "cell_type": "code",
   "execution_count": 20,
   "metadata": {},
   "outputs": [
    {
     "name": "stdout",
     "output_type": "stream",
     "text": [
      "Collecting tabulate\n",
      "  Using cached tabulate-0.9.0-py3-none-any.whl (35 kB)\n",
      "Installing collected packages: tabulate\n",
      "Successfully installed tabulate-0.9.0\n",
      "Note: you may need to restart the kernel to use updated packages.\n"
     ]
    },
    {
     "name": "stderr",
     "output_type": "stream",
     "text": [
      "  WARNING: The script tabulate.exe is installed in 'C:\\Users\\ASUS\\AppData\\Local\\Packages\\PythonSoftwareFoundation.Python.3.10_qbz5n2kfra8p0\\LocalCache\\local-packages\\Python310\\Scripts' which is not on PATH.\n",
      "  Consider adding this directory to PATH or, if you prefer to suppress this warning, use --no-warn-script-location.\n"
     ]
    }
   ],
   "source": [
    "%pip install tabulate"
   ]
  },
  {
   "cell_type": "code",
   "execution_count": 80,
   "metadata": {},
   "outputs": [],
   "source": [
    "class Transaction():\n",
    "    def __init__(self):\n",
    "        self.keranjang = dict ()\n",
    "    \n",
    "    def add_item (self, item_name, item_count, item_price):\n",
    "        item_total = item_count*item_price\n",
    "        self.keranjang.update({item_name:[item_count,item_price,item_total]})\n",
    "    \n",
    "    def update_item_name (self, item_name, item_name_new):\n",
    "        temp = self.keranjang[item_name]\n",
    "        self.keranjang.pop(item_name)\n",
    "        self.keranjang.update({item_name_new: temp})\n",
    "\n",
    "    def update_item_qty (self,item_name,item_count_new):\n",
    "        self.keranjang[item_name][0] = item_count_new\n",
    "        self.keranjang[item_name][2] = item_count_new*self.keranjang[item_name][1]\n",
    "\n",
    "    def update_item_price (self, item_name, item_price_new):\n",
    "        self.keranjang[item_name][1] = item_price_new\n",
    "        self.keranjang[item_name][2] = item_price_new*self.keranjang[item_name][0]\n",
    "\n",
    "    def delete_item (self):\n",
    "        self.keranjang.clear ()\n",
    "    \n",
    "    def check_order (self):\n",
    "\n",
    "        if len(self.keranjang) == 0: \n",
    "            print (\"Yo have no item in order list\")\n",
    "        else:\n",
    "            data = pd.DataFrame(self.keranjang).T\n",
    "            data.columns = ['item_count', 'item/price', 'Total Price']\n",
    "            print(data.to_markdown())\n",
    "        \n",
    "    def delete_item (self, item_name):\n",
    "        self.keranjang.pop(item_name)\n",
    "    \n",
    "    def reset_item (self):\n",
    "        self.keranjang.clear()\n",
    "        \n",
    "    def purchase (self):\n",
    "        data = pd.DataFrame(self.keranjang).T\n",
    "        data.columns = ['item_count', 'item/price', 'Total Price']\n",
    "        print(data.to_markdown())\n",
    "        print(f\"\\nGrand Total {sum(data['Total Price'])}\")\n",
    "\n",
    "    def after_discount (self):\n",
    "        data = pd.DataFrame(self.keranjang).T\n",
    "        data.columns = ['item_count', 'item/price', 'Total Price']\n",
    "        total_price =  sum(data[\"Total Price\"])\n",
    "        discount = 0 \n",
    "        if total_price > 500_000:\n",
    "            discount = 0.1\n",
    "            print (\"You got 10% discount\")\n",
    "        elif total_price > 300_000:\n",
    "            discount = 0.08\n",
    "            print (\"You got 8% discount\")\n",
    "        elif total_price > 200_000:\n",
    "            discount = 0.05 \n",
    "            print (\"You got 5% discount\")\n",
    "        price_after_discount = total_price*(1-discount)\n",
    "        print (price_after_discount)"
   ]
  },
  {
   "cell_type": "code",
   "execution_count": 81,
   "metadata": {},
   "outputs": [],
   "source": [
    "Transaction123 = Transaction()\n",
    "Transaction123.add_item(\"tempe\", 1, 3000)\n",
    "Transaction123.add_item(\"udang\", 2, 5000)\n",
    "Transaction123.add_item(\"sayuran\", 5, 200_000)\n"
   ]
  },
  {
   "cell_type": "code",
   "execution_count": 82,
   "metadata": {},
   "outputs": [
    {
     "name": "stdout",
     "output_type": "stream",
     "text": [
      "|         |   item_count |   item/price |   Total Price |\n",
      "|:--------|-------------:|-------------:|--------------:|\n",
      "| tempe   |            1 |         3000 |      3000     |\n",
      "| udang   |            2 |         5000 |     10000     |\n",
      "| sayuran |            5 |       200000 |         1e+06 |\n"
     ]
    }
   ],
   "source": [
    "Transaction123.check_order()"
   ]
  },
  {
   "cell_type": "code",
   "execution_count": 83,
   "metadata": {},
   "outputs": [],
   "source": [
    "Transaction123.update_item_name(\"udang\",\"tahu\")"
   ]
  },
  {
   "cell_type": "code",
   "execution_count": 84,
   "metadata": {},
   "outputs": [
    {
     "name": "stdout",
     "output_type": "stream",
     "text": [
      "|         |   item_count |   item/price |   Total Price |\n",
      "|:--------|-------------:|-------------:|--------------:|\n",
      "| tempe   |            1 |         3000 |      3000     |\n",
      "| sayuran |            5 |       200000 |         1e+06 |\n",
      "| tahu    |            2 |         5000 |     10000     |\n"
     ]
    }
   ],
   "source": [
    "Transaction123.check_order()"
   ]
  },
  {
   "cell_type": "code",
   "execution_count": 85,
   "metadata": {},
   "outputs": [
    {
     "name": "stdout",
     "output_type": "stream",
     "text": [
      "|         |   item_count |   item/price |   Total Price |\n",
      "|:--------|-------------:|-------------:|--------------:|\n",
      "| tempe   |            1 |         3000 |      3000     |\n",
      "| sayuran |            5 |       200000 |         1e+06 |\n",
      "| tahu    |            2 |         5000 |     10000     |\n",
      "\n",
      "Grand Total 1013000\n"
     ]
    }
   ],
   "source": [
    "Transaction123.purchase()"
   ]
  },
  {
   "cell_type": "code",
   "execution_count": 86,
   "metadata": {},
   "outputs": [
    {
     "name": "stdout",
     "output_type": "stream",
     "text": [
      "You got 10% discount\n",
      "911700.0\n"
     ]
    }
   ],
   "source": [
    "Transaction123.after_discount()"
   ]
  },
  {
   "cell_type": "code",
   "execution_count": 51,
   "metadata": {},
   "outputs": [],
   "source": [
    "Transaction123.update_item_qty(\"tahu\",5)"
   ]
  },
  {
   "cell_type": "code",
   "execution_count": 52,
   "metadata": {},
   "outputs": [
    {
     "name": "stdout",
     "output_type": "stream",
     "text": [
      "|         |   item_count |   item/price |   Total Price |\n",
      "|:--------|-------------:|-------------:|--------------:|\n",
      "| tempe   |            1 |         3000 |          3000 |\n",
      "| sayuran |            5 |         5000 |         25000 |\n",
      "| tahu    |            5 |         5000 |         25000 |\n"
     ]
    }
   ],
   "source": [
    "Transaction123.check_order()"
   ]
  },
  {
   "cell_type": "code",
   "execution_count": 53,
   "metadata": {},
   "outputs": [
    {
     "name": "stdout",
     "output_type": "stream",
     "text": [
      "|         |   item_count |   item/price |   Total Price |\n",
      "|:--------|-------------:|-------------:|--------------:|\n",
      "| tempe   |            1 |         3000 |          3000 |\n",
      "| sayuran |            5 |         5000 |         25000 |\n",
      "| tahu    |            5 |         5000 |         25000 |\n",
      "\n",
      "Grand Total 53000\n"
     ]
    }
   ],
   "source": [
    "Transaction123.purchase()"
   ]
  },
  {
   "cell_type": "code",
   "execution_count": 54,
   "metadata": {},
   "outputs": [],
   "source": [
    "Transaction123.delete_item(\"tahu\")"
   ]
  },
  {
   "cell_type": "code",
   "execution_count": 21,
   "metadata": {},
   "outputs": [
    {
     "name": "stdout",
     "output_type": "stream",
     "text": [
      "|         |   item_count |   item/price |   Total Price |\n",
      "|:--------|-------------:|-------------:|--------------:|\n",
      "| tempe   |            1 |         3000 |          3000 |\n",
      "| sayuran |            5 |         5000 |         25000 |\n"
     ]
    }
   ],
   "source": [
    "Transaction123.check_order()"
   ]
  },
  {
   "cell_type": "code",
   "execution_count": 22,
   "metadata": {},
   "outputs": [],
   "source": [
    "Transaction123.reset_data ()"
   ]
  },
  {
   "cell_type": "code",
   "execution_count": 23,
   "metadata": {},
   "outputs": [
    {
     "name": "stdout",
     "output_type": "stream",
     "text": [
      "Tidak ada order\n"
     ]
    }
   ],
   "source": [
    "Transaction123.check_order()"
   ]
  }
 ],
 "metadata": {
  "kernelspec": {
   "display_name": "Python 3",
   "language": "python",
   "name": "python3"
  },
  "language_info": {
   "codemirror_mode": {
    "name": "ipython",
    "version": 3
   },
   "file_extension": ".py",
   "mimetype": "text/x-python",
   "name": "python",
   "nbconvert_exporter": "python",
   "pygments_lexer": "ipython3",
   "version": "3.10.10"
  },
  "orig_nbformat": 4,
  "vscode": {
   "interpreter": {
    "hash": "65a440aeac0c89e2af7569e0aa53b64434c4b69eb6285e2b0d174d9bca190d54"
   }
  }
 },
 "nbformat": 4,
 "nbformat_minor": 2
}
